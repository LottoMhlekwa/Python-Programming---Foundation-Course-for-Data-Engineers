{
 "cells": [
  {
   "cell_type": "code",
   "execution_count": null,
   "id": "4077bc44-2d9b-4ede-9e51-acd9280c9ca0",
   "metadata": {},
   "outputs": [],
   "source": [
    "# Functions \n",
    "# It takes one or more input values\n",
    "# Perfoms the desired task\n",
    "# Returns or produces some output\n",
    "# It can be called from other places in your code \n",
    "\n",
    "tuple_1 = (5, 10, 15, 20)\n",
    "\n",
    "#Built in functions\n",
    "min(tuple_1)\n",
    "max(tuple_1)\n",
    "len(tuple_1)\n",
    "\n",
    "# User defined functions\n",
    "\n",
    "#function Header\n",
    "def even_or_odd(a):\n",
    "    if a % 2 == 0:\n",
    "        print('Even')\n",
    "    else:\n",
    "        print('Odd')\n",
    "\n",
    "even_or_odd(5)\n",
    "\n",
    "def even_or_odd(a):\n",
    "    if a % 2 == 0:\n",
    "        return('Even')\n",
    "    else:\n",
    "        return('Odd')\n",
    "\n",
    "r = even_or_odd(5)\n",
    "print(r)\n",
    "        "
   ]
  }
 ],
 "metadata": {
  "kernelspec": {
   "display_name": "Python 3 (ipykernel)",
   "language": "python",
   "name": "python3"
  },
  "language_info": {
   "codemirror_mode": {
    "name": "ipython",
    "version": 3
   },
   "file_extension": ".py",
   "mimetype": "text/x-python",
   "name": "python",
   "nbconvert_exporter": "python",
   "pygments_lexer": "ipython3",
   "version": "3.13.5"
  }
 },
 "nbformat": 4,
 "nbformat_minor": 5
}
