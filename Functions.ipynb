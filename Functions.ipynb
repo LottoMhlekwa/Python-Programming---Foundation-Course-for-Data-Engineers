{
 "cells": [
  {
   "cell_type": "code",
   "execution_count": 49,
   "id": "4077bc44-2d9b-4ede-9e51-acd9280c9ca0",
   "metadata": {},
   "outputs": [
    {
     "name": "stdout",
     "output_type": "stream",
     "text": [
      "Odd\n",
      "Odd\n"
     ]
    },
    {
     "data": {
      "text/plain": [
       "'Operating System = Windows, Processor = i15, Memory = 8GB, Storage = 512 GB SSD'"
      ]
     },
     "execution_count": 49,
     "metadata": {},
     "output_type": "execute_result"
    }
   ],
   "source": [
    "# Functions \n",
    "# It takes one or more input values\n",
    "# Perfoms the desired task\n",
    "# Returns or produces some output\n",
    "# It can be called from other places in your code \n",
    "\n",
    "tuple_1 = (5, 10, 15, 20)\n",
    "\n",
    "#Built in functions\n",
    "min(tuple_1)\n",
    "max(tuple_1)\n",
    "len(tuple_1)\n",
    "\n",
    "# User defined functions\n",
    "\n",
    "#function Header\n",
    "def even_or_odd(a):\n",
    "    if a % 2 == 0:\n",
    "        print('Even')\n",
    "    else:\n",
    "        print('Odd')\n",
    "\n",
    "even_or_odd(5)\n",
    "\n",
    "def even_or_odd(a):\n",
    "    if a % 2 == 0:\n",
    "        return('Even')\n",
    "    else:\n",
    "        return('Odd')\n",
    "\n",
    "r = even_or_odd(5)\n",
    "print(r)\n",
    "\n",
    "\n",
    "\n",
    "def greetings(greet = \"Hello\", to = \"World\"):\n",
    "    return(greet + \" \" + to + \"!\")\n",
    "\n",
    "greetings(\"Hello\", \"World\")\n",
    "#'Hello World!'\n",
    "greetings(\"Hello\",\"Friends\")\n",
    "#'Hello Friends!'\n",
    "greetings(to = 'Prashant')\n",
    "#'Hello Prashant!'\n",
    "\n",
    "def configure( cpu, ram, disk = \"512 GB SSD\",os = \"Windows\"):\n",
    "    return \"Operating System = \" + os \\\n",
    "    +\", Processor = \" + cpu \\\n",
    "    +\", Memory = \" + ram \\\n",
    "    +\", Storage = \" + disk \n",
    "\n",
    "configure(\"i15\", \"8GB\")\n",
    "\n",
    "#'Operating System = Windows, Processor = i15, Memory = 8GB, Storage = 512 GB SSD'\n",
    "        "
   ]
  },
  {
   "cell_type": "code",
   "execution_count": 48,
   "id": "ea996f54-36f8-4365-8231-a7e9aa2d7510",
   "metadata": {},
   "outputs": [
    {
     "data": {
      "text/plain": [
       "'Operating System = Windows, Processor = i15, Memory = 8GB, Storage = 512 GB SSD'"
      ]
     },
     "execution_count": 48,
     "metadata": {},
     "output_type": "execute_result"
    }
   ],
   "source": []
  },
  {
   "cell_type": "code",
   "execution_count": 38,
   "id": "86706fd6-6d65-4242-a576-1000ba8ca78e",
   "metadata": {},
   "outputs": [
    {
     "data": {
      "text/plain": [
       "'Hello World!'"
      ]
     },
     "execution_count": 38,
     "metadata": {},
     "output_type": "execute_result"
    }
   ],
   "source": []
  },
  {
   "cell_type": "code",
   "execution_count": 39,
   "id": "ac0a0407-84fc-45b8-8165-0987f25d39ee",
   "metadata": {},
   "outputs": [
    {
     "data": {
      "text/plain": [
       "'Hello Friends!'"
      ]
     },
     "execution_count": 39,
     "metadata": {},
     "output_type": "execute_result"
    }
   ],
   "source": []
  },
  {
   "cell_type": "code",
   "execution_count": 42,
   "id": "fcb07db3-19ca-455c-b00b-02536aa7338a",
   "metadata": {},
   "outputs": [
    {
     "data": {
      "text/plain": [
       "'Hello Prashant!'"
      ]
     },
     "execution_count": 42,
     "metadata": {},
     "output_type": "execute_result"
    }
   ],
   "source": []
  },
  {
   "cell_type": "code",
   "execution_count": 46,
   "id": "3da27b65-a55d-4e87-87a1-f9e191b586b1",
   "metadata": {},
   "outputs": [
    {
     "data": {
      "text/plain": [
       "'Operating System = Windows, Processor = i15, Memory = 8GB, Storage = 512 GB SSD'"
      ]
     },
     "execution_count": 46,
     "metadata": {},
     "output_type": "execute_result"
    }
   ],
   "source": []
  },
  {
   "cell_type": "code",
   "execution_count": null,
   "id": "bd3ff990-7194-4203-b207-aef4db0706f6",
   "metadata": {},
   "outputs": [],
   "source": []
  }
 ],
 "metadata": {
  "kernelspec": {
   "display_name": "Python 3 (ipykernel)",
   "language": "python",
   "name": "python3"
  },
  "language_info": {
   "codemirror_mode": {
    "name": "ipython",
    "version": 3
   },
   "file_extension": ".py",
   "mimetype": "text/x-python",
   "name": "python",
   "nbconvert_exporter": "python",
   "pygments_lexer": "ipython3",
   "version": "3.13.5"
  }
 },
 "nbformat": 4,
 "nbformat_minor": 5
}
